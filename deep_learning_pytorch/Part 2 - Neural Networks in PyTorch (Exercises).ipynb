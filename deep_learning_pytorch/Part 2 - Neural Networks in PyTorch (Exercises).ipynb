{
 "cells": [
  {
   "cell_type": "markdown",
   "metadata": {},
   "source": [
    "# Neural networks with PyTorch\n",
    "\n",
    "Deep learning networks tend to be massive with dozens or hundreds of layers, that's where the term \"deep\" comes from. You can build one of these deep networks using only weight matrices as we did in the previous notebook, but in general it's very cumbersome and difficult to implement. PyTorch has a nice module `nn` that provides a nice way to efficiently build large neural networks."
   ]
  },
  {
   "cell_type": "code",
   "execution_count": 1,
   "metadata": {},
   "outputs": [],
   "source": [
    "# Import necessary packages\n",
    "\n",
    "%matplotlib inline\n",
    "%config InlineBackend.figure_format = 'retina'\n",
    "\n",
    "import numpy as np\n",
    "import torch\n",
    "\n",
    "import helper\n",
    "\n",
    "import matplotlib.pyplot as plt"
   ]
  },
  {
   "cell_type": "markdown",
   "metadata": {},
   "source": [
    "\n",
    "Now we're going to build a larger network that can solve a (formerly) difficult problem, identifying text in an image. Here we'll use the MNIST dataset which consists of greyscale handwritten digits. Each image is 28x28 pixels, you can see a sample below\n",
    "\n",
    "<img src='assets/mnist.png'>\n",
    "\n",
    "Our goal is to build a neural network that can take one of these images and predict the digit in the image.\n",
    "\n",
    "First up, we need to get our dataset. This is provided through the `torchvision` package. The code below will download the MNIST dataset, then create training and test datasets for us. Don't worry too much about the details here, you'll learn more about this later."
   ]
  },
  {
   "cell_type": "code",
   "execution_count": 2,
   "metadata": {},
   "outputs": [],
   "source": [
    "### Run this cell\n",
    "\n",
    "from torchvision import datasets, transforms\n",
    "\n",
    "# Define a transform to normalize the data\n",
    "transform = transforms.Compose([transforms.ToTensor(),\n",
    "                              transforms.Normalize((0.5,), (0.5,)),\n",
    "                              ])\n",
    "\n",
    "# Download and load the training data\n",
    "trainset = datasets.MNIST('~/.pytorch/MNIST_data/', download=True, train=True, transform=transform)\n",
    "trainloader = torch.utils.data.DataLoader(trainset, batch_size=64, shuffle=True)"
   ]
  },
  {
   "cell_type": "markdown",
   "metadata": {},
   "source": [
    "We have the training data loaded into `trainloader` and we make that an iterator with `iter(trainloader)`. Later, we'll use this to loop through the dataset for training, like\n",
    "\n",
    "```python\n",
    "for image, label in trainloader:\n",
    "    ## do things with images and labels\n",
    "```\n",
    "\n",
    "You'll notice I created the `trainloader` with a batch size of 64, and `shuffle=True`. The batch size is the number of images we get in one iteration from the data loader and pass through our network, often called a *batch*. And `shuffle=True` tells it to shuffle the dataset every time we start going through the data loader again. But here I'm just grabbing the first batch so we can check out the data. We can see below that `images` is just a tensor with size `(64, 1, 28, 28)`. So, 64 images per batch, 1 color channel, and 28x28 images."
   ]
  },
  {
   "cell_type": "code",
   "execution_count": 3,
   "metadata": {},
   "outputs": [
    {
     "name": "stdout",
     "output_type": "stream",
     "text": [
      "<class 'torch.Tensor'>\n",
      "torch.Size([64, 1, 28, 28])\n",
      "torch.Size([64])\n"
     ]
    }
   ],
   "source": [
    "dataiter = iter(trainloader)\n",
    "images, labels = dataiter.next()\n",
    "print(type(images))\n",
    "print(images.shape)\n",
    "print(labels.shape)"
   ]
  },
  {
   "cell_type": "markdown",
   "metadata": {},
   "source": [
    "This is what one of the images looks like. "
   ]
  },
  {
   "cell_type": "code",
   "execution_count": 4,
   "metadata": {},
   "outputs": [
    {
     "data": {
      "image/png": "[encoded data removed]",
      "text/plain": [
       "<matplotlib.figure.Figure at 0x7f5b94aec048>"
      ]
     },
     "metadata": {
      "image/png": {
       "height": 250,
       "width": 253
      },
      "needs_background": "light"
     },
     "output_type": "display_data"
    }
   ],
   "source": [
    "plt.imshow(images[1].numpy().squeeze(), cmap='Greys_r');"
   ]
  },
  {
   "cell_type": "markdown",
   "metadata": {},
   "source": [
    "First, let's try to build a simple network for this dataset using weight matrices and matrix multiplications. Then, we'll see how to do it using PyTorch's `nn` module which provides a much more convenient and powerful method for defining network architectures.\n",
    "\n",
    "The networks you've seen so far are called *fully-connected* or *dense* networks. Each unit in one layer is connected to each unit in the next layer. In fully-connected networks, the input to each layer must be a one-dimensional vector (which can be stacked into a 2D tensor as a batch of multiple examples). However, our images are 28x28 2D tensors, so we need to convert them into 1D vectors. Thinking about sizes, we need to convert the batch of images with shape `(64, 1, 28, 28)` to a have a shape of `(64, 784)`, 784 is 28 times 28. This is typically called *flattening*, we flattened the 2D images into 1D vectors.\n",
    "\n",
    "Previously you built a network with one output unit. Here we need 10 output units, one for each digit. We want our network to predict the digit shown in an image, so what we'll do is calculate probabilities that the image is of any one digit or class. This ends up being a discrete probability distribution over the classes (digits) that tells us the most likely class for the image. That means we need 10 output units for the 10 classes (digits). We'll see how to convert the network output into a probability distribution next.\n",
    "\n",
    "> **Exercise:** Flatten the batch of images `images`. Then build a multi-layer network with 784 input units, 256 hidden units, and 10 output units using random tensors for the weights and biases. For now, use a sigmoid activation for the hidden layer. Leave the output layer without an activation, we'll add one that gives us a probability distribution next."
   ]
  },
  {
   "cell_type": "code",
   "execution_count": 5,
   "metadata": {},
   "outputs": [
    {
     "name": "stdout",
     "output_type": "stream",
     "text": [
      "INPUT : tensor([[-1.0000, -1.0000, -1.0000,  ..., -1.0000, -1.0000, -1.0000],\n",
      "        [-1.0000, -1.0000, -1.0000,  ..., -1.0000, -1.0000, -1.0000],\n",
      "        [-1.0000, -1.0000, -1.0000,  ..., -1.0000, -1.0000, -1.0000],\n",
      "        ...,\n",
      "        [-1.0000, -1.0000, -1.0000,  ..., -1.0000, -1.0000, -1.0000],\n",
      "        [-1.0000, -1.0000, -1.0000,  ..., -1.0000, -1.0000, -1.0000],\n",
      "        [-1.0000, -1.0000, -1.0000,  ..., -1.0000, -1.0000, -1.0000]])\n",
      "w1 : tensor([[ 4.1625e-01, -2.5267e-01, -1.8814e-01,  ...,  1.4386e+00,\n",
      "         -9.9757e-01,  2.6989e-01],\n",
      "        [ 1.2566e+00,  4.0766e-01, -1.7140e-01,  ...,  3.8036e-01,\n",
      "          1.7572e-01, -1.2600e+00],\n",
      "        [ 5.3340e-02, -4.3765e-02, -8.2584e-01,  ..., -2.2360e+00,\n",
      "         -1.9374e+00,  1.4919e+00],\n",
      "        ...,\n",
      "        [-1.5104e+00,  1.0185e+00,  1.2656e+00,  ...,  1.7342e+00,\n",
      "         -1.6995e-01,  2.6486e-01],\n",
      "        [ 1.6382e-01, -4.5770e-02, -9.5895e-01,  ...,  1.0185e+00,\n",
      "         -1.8392e+00,  3.2290e-01],\n",
      "        [ 8.1922e-01, -1.0341e-01,  1.1304e+00,  ...,  4.1388e-01,\n",
      "          8.5935e-01,  6.0715e-01]])\n",
      "b1 : tensor([-1.2765,  0.4302, -1.4403,  0.2572, -0.5436, -0.5846,  0.0342,\n",
      "        -0.0245,  0.5704, -0.2303,  0.6341,  0.7640,  0.5358,  0.8431,\n",
      "        -0.3900, -0.7673,  0.4891, -0.4712,  0.7166,  1.0648, -0.2724,\n",
      "        -0.1898,  2.7321,  0.0007, -0.1641, -0.6634, -0.3039, -1.3583,\n",
      "         0.6778, -1.5633, -0.3134,  1.1886, -2.1132, -0.9151, -0.3787,\n",
      "        -0.3137, -0.8310, -0.1405, -0.0441,  0.8377,  1.5486,  1.4126,\n",
      "         0.9821, -2.2507,  1.2573, -1.3550,  1.1592, -1.7531, -1.5079,\n",
      "        -0.0306,  0.9308,  0.8776, -0.1500,  2.3040,  0.4559, -0.4665,\n",
      "        -1.0490,  2.0029, -1.3329, -0.5577, -1.1546, -0.0414, -1.1441,\n",
      "        -0.7483,  1.0875, -0.5684,  0.8065, -1.8894,  1.6841,  0.4278,\n",
      "        -1.1501,  1.5605,  0.6894,  2.0796, -0.7217,  0.6515, -1.2766,\n",
      "         1.2793, -1.3924, -0.6057, -0.4217,  0.4799, -1.0270, -0.8305,\n",
      "        -0.2250, -0.2339, -0.5120,  1.2431, -0.0234,  0.5354,  0.4386,\n",
      "         0.1777,  1.3247, -0.4644,  0.3887, -0.2179,  0.0060, -0.2396,\n",
      "         0.2331,  0.2647,  0.1821,  1.4808,  0.3210,  0.0221,  2.0172,\n",
      "        -0.3766,  0.1054, -0.6489, -0.9898, -0.7638, -1.4863,  1.1535,\n",
      "         1.4346,  0.4096, -1.1817, -0.3275,  1.4224, -0.5122, -1.2335,\n",
      "         0.1329, -0.9588, -1.2223,  0.7405,  0.1858,  1.3573, -0.1600,\n",
      "        -2.0489, -0.8692,  0.6402,  0.0253,  0.1720,  0.5490,  1.4336,\n",
      "        -0.7243,  2.2371,  0.1439,  0.6440,  1.3836,  0.5465,  0.3136,\n",
      "        -0.2172,  0.3392, -0.0259,  1.3953, -0.0215, -0.8075, -0.4119,\n",
      "        -0.2388, -0.6852, -0.2423, -0.2325,  0.3733, -0.1553,  2.5755,\n",
      "         0.1282,  0.7795, -0.2689, -0.4155, -0.4123, -1.4384, -1.3019,\n",
      "         0.4049,  0.5657, -0.5160, -0.5720, -0.2706,  0.8328,  0.1785,\n",
      "        -0.4534, -1.4984,  1.2599, -0.0308, -1.2105,  1.6116,  1.0732,\n",
      "        -0.1956,  0.5358,  1.4219, -1.4566, -1.5127,  0.2073,  1.0599,\n",
      "        -1.0906, -0.6822, -0.4329,  2.6434,  2.0187, -0.3991, -0.9040,\n",
      "         0.0855, -0.2137,  0.8344, -0.2855,  0.6088, -1.2257,  0.4967,\n",
      "        -0.4204, -0.1893,  0.9474, -1.1819, -0.5787, -0.1952, -0.9868,\n",
      "        -0.4225,  0.1901, -0.4671,  0.3229,  1.3678, -1.7118,  1.9541,\n",
      "         1.1687, -0.2439,  0.9072,  0.8363,  0.7457,  1.3366,  0.3546,\n",
      "         0.6133, -1.7060,  0.6884, -1.2690,  0.5653, -0.6135,  0.4344,\n",
      "        -0.2538,  0.8099,  0.2848,  0.9227,  0.7705,  0.3977, -0.0250,\n",
      "         0.9064,  1.0362,  0.4416,  0.0253,  0.5982, -0.5949, -0.9006,\n",
      "        -1.1903,  0.4736,  0.8732, -1.2936,  0.6908,  0.0295,  1.5295,\n",
      "         0.2798, -0.1963, -0.7871, -0.4717,  1.3218, -0.5134,  0.4707,\n",
      "         0.8823, -1.2911,  0.4533, -1.5809])\n",
      "w2 : tensor([[-0.5034,  2.1800, -0.9657,  ..., -1.0853,  0.2126,  1.5743],\n",
      "        [-0.9719,  0.2519,  0.3122,  ..., -0.4762, -1.2657, -1.1360],\n",
      "        [-1.2726, -0.3813,  1.1468,  ..., -0.0303,  0.9029, -2.5832],\n",
      "        ...,\n",
      "        [-2.6899,  1.2421, -0.6003,  ..., -0.3837,  0.6111,  0.8020],\n",
      "        [ 0.6335, -1.4374,  2.0240,  ..., -1.2863,  1.2357, -0.0821],\n",
      "        [-1.1227, -0.2089,  0.4386,  ...,  2.3408,  0.2241,  0.5864]])\n",
      "b2 : tensor([-0.1355, -1.9091, -0.9437,  0.6517,  1.8462, -0.0541,  1.9159,\n",
      "        -0.0098, -0.3999,  1.5361])\n",
      "h : tensor([[ 0.9995,  0.0000,  0.0000,  ...,  1.0000,  1.0000,  0.0000],\n",
      "        [ 0.0000,  0.0000,  0.0000,  ...,  1.0000,  1.0000,  0.0000],\n",
      "        [ 0.0000,  0.0000,  0.0000,  ...,  1.0000,  1.0000,  0.0000],\n",
      "        ...,\n",
      "        [ 1.0000,  0.0000,  0.0006,  ...,  1.0000,  1.0000,  0.0561],\n",
      "        [ 1.0000,  0.0000,  0.0000,  ...,  1.0000,  1.0000,  0.0000],\n",
      "        [ 1.0000,  0.0001,  0.9999,  ...,  1.0000,  1.0000,  1.0000]])\n",
      "out : tensor([[ 10.4555,   2.1357,  13.2735,  -4.7594,  17.5226,   6.1646,\n",
      "           1.2960,  10.0356,  17.4370,  11.3592],\n",
      "        [ 14.6957,  13.2858,  23.6739,  -7.0424,  19.8849,   0.4101,\n",
      "           6.0268,   9.3491,  -1.5729,  -0.8020],\n",
      "        [ 17.9581,   8.2509,  23.4034, -16.0218,  10.9847,   0.5215,\n",
      "          -4.9451,   7.5084,  -1.0243,  -8.4123],\n",
      "        [ 15.9821,   2.4877,  11.1680,  -8.9888,  11.9502,   4.4839,\n",
      "           0.7273,  10.0181,   0.8962,  -1.2919],\n",
      "        [  8.5397,   8.8933,  19.5470,  -3.0743,  15.9701,  -1.4976,\n",
      "           4.3654,  11.6041,   1.5621, -11.9529],\n",
      "        [ 15.2518,  12.2650,  16.8051,  -7.9289,   9.8658,  10.0219,\n",
      "          -3.2476,   6.0985,   4.4199,   1.4123],\n",
      "        [ 12.2715,   7.4383,  26.2530,   0.8952,  18.6205,   2.2262,\n",
      "           2.6016,   5.0292,  12.4550,  -2.0226],\n",
      "        [  6.7502,   5.1040,  11.4046, -15.7323,   8.2210,   1.8141,\n",
      "          -3.0447,   3.9219,  13.7597,  -0.4768],\n",
      "        [ 16.2352,   8.0392,  11.7311,   0.8857,  21.0127,  12.2934,\n",
      "          -7.0697,   4.9442,  10.2078,   7.6127],\n",
      "        [ 19.8314,   7.0588,  11.7889,  -4.6630,  12.3800,   0.4187,\n",
      "           4.0849,  11.4071,   1.5325,  -4.3546],\n",
      "        [ 21.2171,   8.3734,  15.4701,  -3.4459,  12.2384,   0.8885,\n",
      "           4.3894,  18.4089,  -0.1861,  -0.5305],\n",
      "        [ 19.3930,   7.7799,  19.5592,  -7.1076,  15.4455,   5.2538,\n",
      "           5.6105,  15.3672,   2.3485,   5.4342],\n",
      "        [  7.1586,   7.7282,  20.3937, -12.4774,   8.4394,   4.1880,\n",
      "          -2.1044,   3.7453,   3.5957,   0.5902],\n",
      "        [ 11.1467,   5.7730,   6.8237, -16.2907,  20.5038,  -1.9210,\n",
      "           4.5483,  -2.0127,   1.0095,  -8.1962],\n",
      "        [ 17.7399,   8.4883,  14.4837,  -5.5116,  15.8327,   9.3722,\n",
      "           4.2388,   9.2694,  -1.1921,   2.1364],\n",
      "        [  2.4653,  12.2003,  19.4277,  -8.4826,  13.8064,  -3.2101,\n",
      "          -7.9113,  10.7922,  -0.8224,   1.9231],\n",
      "        [  4.8705,   4.9415,  14.6704,  -6.5947,  17.4477,   5.6742,\n",
      "           4.2649,   7.9588,   5.7364,  11.6700],\n",
      "        [ 11.5413,   8.1352,  13.3681,   0.9704,  13.0664,  -1.9962,\n",
      "           1.4575,   7.5497,  -0.0970,  -7.4177],\n",
      "        [ 18.1815,   3.4890,  20.3838, -10.3732,  14.1824,   7.3733,\n",
      "           0.8857,  16.1189,   0.6760,  10.3151],\n",
      "        [  3.2235,   9.0808,  12.3756,  -5.8447,  14.9347,   3.1074,\n",
      "           0.7405,  14.9057,   3.7746,  -8.5469],\n",
      "        [  1.5673,  10.8384,  15.2280,  -9.1320,  20.1629,   7.8263,\n",
      "          -3.0806,  13.1266,  11.1490,   2.9314],\n",
      "        [ 14.8038,   2.1416,  20.8314,  -3.9347,  20.7609,  -0.9033,\n",
      "           3.4426,  -2.1028,  11.7648,   3.4675],\n",
      "        [ 15.4699,   3.2559,  20.4908,  -0.4477,  23.8311,   2.0393,\n",
      "          -1.7651,  13.2331,   4.7300,   2.9536],\n",
      "        [ 20.9614,  12.6066,  23.4111,  -9.9999,  16.9772,   4.6100,\n",
      "          -2.9931,   6.7634,   2.6081,  -6.0667],\n",
      "        [ 17.5052,  19.9323,  14.2364,  -3.9136,  24.9700,  -8.9749,\n",
      "           3.7680,   9.0906,   5.4148,   0.2052],\n",
      "        [  8.2350,  21.0690,  12.9976,  -5.0941,  12.4995,   3.2207,\n",
      "          -5.4320,   5.4760,   9.4151,   0.4875],\n",
      "        [ 13.0284,   8.2720,  23.5487,  -0.4856,  18.5926,   2.7844,\n",
      "          -1.6511,   1.5836,   9.9088,  12.8835],\n",
      "        [ 25.1268,  -2.3287,  13.6377,  -8.0737,  13.8839,  -8.8220,\n",
      "           4.1209,  10.3377,  -6.0548,   4.5947],\n",
      "        [ 10.4892,   5.6629,  20.3292,  -4.6010,  11.8611,  -8.5051,\n",
      "           5.7007,   1.4674,   2.2989,  -4.9418],\n",
      "        [ 10.8541,   5.6814,  17.8768,  -4.3980,  17.3544,  -3.4127,\n",
      "          -0.8051,   3.8404,   7.5685,   5.5722],\n",
      "        [ 14.7865,   9.5119,   6.9743,  -4.9375,  12.5281,   8.6327,\n",
      "          -1.7760,  11.1826,  -7.8985,   0.5333],\n",
      "        [ 17.5674,   3.7435,  13.0786, -22.5370,  18.4175,  -2.0187,\n",
      "          -1.3757,   7.9191,   5.4520,  -7.4103],\n",
      "        [ 13.0476,  10.4376,   8.1924,  -4.1737,  14.2962,  10.3391,\n",
      "          -5.4513,  16.0199,   7.0680,  -4.7743],\n",
      "        [  0.1309,   4.8822,  17.6165,  -6.4026,  10.1209,  15.4454,\n",
      "          15.1826,   2.3510,   9.8620,   1.8338],\n",
      "        [  5.6068,   1.6547,  20.7158, -16.3218,   7.2574,   1.4558,\n",
      "           0.4877,   3.9962,  -1.0505,  -1.4896],\n",
      "        [  6.9348,   2.1698,  11.2280, -10.1321,   7.5522,  10.8253,\n",
      "           1.9966,   5.6482,  11.7545,  14.2811],\n",
      "        [ 12.6963,   4.5320,  19.4029,  -9.2128,  19.2486,   4.2177,\n",
      "           1.6617,   6.3860,   0.4237,   2.3398],\n",
      "        [ 10.1091,   5.7906,  25.5191,  -8.0899,  15.0097,  -1.7638,\n",
      "          12.6287,   8.3912,   0.1651,  -3.1368],\n",
      "        [ 12.1552,  12.6346,  15.0022,  -4.9465,  20.8113,   5.4353,\n",
      "           1.8897,   3.3650,  13.5853,   5.0014],\n",
      "        [  7.9349,  11.7861,  17.5562,  -7.1966,   7.2825,   8.0349,\n",
      "          -4.7188,   3.6978,   3.7752,   6.8111],\n",
      "        [  9.3165,   8.0046,  22.0295,  -6.0997,  13.3872,   3.5435,\n",
      "          -3.3145,   9.4028,  -5.1349,  -1.6104],\n",
      "        [ 19.3743,   8.2614,  17.3804,  -1.7864,  21.2837,   2.9014,\n",
      "           2.5361,  12.0176,  14.5712,   4.1110],\n",
      "        [  6.8815,   7.7128,  15.1421,  -2.5159,  16.0726,   6.6134,\n",
      "          -5.1249,  21.1440,  19.6548,  -9.3565],\n",
      "        [  6.5292,   4.2153,  23.8872, -11.3317,  15.3054,  -1.4434,\n",
      "          -3.2604,   2.7893,   3.2885,  -4.4112],\n",
      "        [ 22.0535,   1.4009,  19.5468,  -9.1480,  12.3942,   5.0094,\n",
      "           5.9305,  10.1682,  -2.7591,   4.4818],\n",
      "        [  4.2160,   3.6206,  26.6823,  -4.8405,   9.8104,   5.9274,\n",
      "          -4.5001,  10.0605,  12.2090,  -6.5419],\n",
      "        [ 16.9359,   3.5260,  19.3289,  -2.9232,  16.6345,  14.3286,\n",
      "          -4.8822,  10.6273,  -0.3500,   2.8631],\n",
      "        [ 12.8728,  11.9725,  19.3146,  -4.3854,  13.8884,  -1.8448,\n",
      "           5.6641,  -1.3712,   5.7101,  -4.7468],\n",
      "        [ 17.6828,   9.5707,  12.3763,  -1.0680,  20.2786,   4.4234,\n",
      "          -3.3943,   9.7688,  13.9136,   0.2831],\n",
      "        [ 10.7892,  17.5198,  16.1746, -10.5363,  20.6928,   1.9412,\n",
      "           3.7391,   3.2190,   5.4595,   0.5307],\n",
      "        [  9.2017,  15.5340,  16.0549,  -5.5152,  13.7991,  -0.9768,\n",
      "           0.4932,   6.0045,   8.6381,  -4.2846],\n",
      "        [ 13.5697,   8.2779,  17.0832, -13.8823,  19.9189,   7.5974,\n",
      "           9.1986,  -4.9085,   4.0465,  -3.2784],\n",
      "        [ 13.5578,  15.5340,  13.9223,  -4.0709,  26.7094,  -6.4145,\n",
      "           0.7001,   7.3048,   5.9128,   1.1732],\n",
      "        [  5.4011,   7.7678,  22.2352, -12.8709,   9.6948,  -3.1393,\n",
      "          -1.9453,  10.4704,  -6.0109,  -1.6589],\n",
      "        [ 19.9583,  22.5226,  19.4180, -11.6744,  23.5498,   4.7429,\n",
      "           5.9501,   9.4059,   6.7920,   6.7292],\n",
      "        [ 13.9394,  10.2374,  14.9521,  -2.6275,  13.9058,   2.5129,\n",
      "          -6.1002,   6.0294,   5.4971,   2.0127],\n",
      "        [ 11.3169,   6.3768,  11.9337, -18.7765,  12.6875,   9.4954,\n",
      "           2.6402,  13.3642,   5.5815,   2.3624],\n",
      "        [  7.5791,  10.8542,  10.3700,  -7.9289,  20.8548,  -4.4980,\n",
      "           0.5408,  10.2841,  16.3054,  -1.0442],\n",
      "        [ 12.2309,   8.3388,  22.1554, -12.2627,  23.1122,  -5.3977,\n",
      "           3.8864,   9.7120,  -0.1738,   0.6026],\n",
      "        [  9.7693,   9.0078,  18.2485, -10.4401,  22.9040,   2.3418,\n",
      "          -5.8680,   5.0371,  13.7796,   2.6153],\n",
      "        [  7.6687,   9.1246,  26.0749,  -9.7688,  16.3149,  -1.4485,\n",
      "           0.3080,   4.1394,   8.3232,  -1.2065],\n",
      "        [ 10.7945,  11.6919,  22.6096,  -8.7752,  18.2253,  -5.1552,\n",
      "          -1.3128,  17.9562,  -5.7436,  -0.3597],\n",
      "        [ 10.9352,   0.7254,  20.6262, -14.7394,  16.9778,  -2.1486,\n",
      "          10.7516,   5.2372,   0.2924,   8.0909],\n",
      "        [ 14.1649,   4.0920,  19.5421,  -1.1528,  12.1460,   6.4729,\n",
      "          -1.0677,  15.1862,   9.7135, -12.6309]])\n"
     ]
    }
   ],
   "source": [
    "## Your solution\n",
    "\n",
    "\n",
    "## Solution\n",
    "def activation(x):\n",
    "    return 1/(1+torch.exp(-x))\n",
    "\n",
    "# Flatten the input images\n",
    "inputs = images.view(images.shape[0], -1)\n",
    "print(\"INPUT : {}\".format(inputs))\n",
    "# Create parameters\n",
    "w1 = torch.randn(784, 256)\n",
    "print(\"w1 : {}\".format(w1))\n",
    "\n",
    "b1 = torch.randn(256)\n",
    "print(\"b1 : {}\".format(b1))\n",
    "\n",
    "w2 = torch.randn(256, 10)\n",
    "print(\"w2 : {}\".format(w2))\n",
    "\n",
    "b2 = torch.randn(10)\n",
    "print(\"b2 : {}\".format(b2))\n",
    "\n",
    "h = activation(torch.mm(inputs, w1) + b1)\n",
    "print(\"h : {}\".format(h))\n",
    "\n",
    "out = torch.mm(h, w2) + b2\n",
    "print(\"out : {}\".format(out))\n"
   ]
  },
  {
   "cell_type": "markdown",
   "metadata": {},
   "source": [
    "Now we have 10 outputs for our network. We want to pass in an image to our network and get out a probability distribution over the classes that tells us the likely class(es) the image belongs to. Something that looks like this:\n",
    "<img src='assets/image_distribution.png' width=500px>\n",
    "\n",
    "Here we see that the probability for each class is roughly the same. This is representing an untrained network, it hasn't seen any data yet so it just returns a uniform distribution with equal probabilities for each class.\n",
    "\n",
    "To calculate this probability distribution, we often use the [**softmax** function](https://en.wikipedia.org/wiki/Softmax_function). Mathematically this looks like\n",
    "\n",
    "$$\n",
    "\\Large \\sigma(x_i) = \\cfrac{e^{x_i}}{\\sum_k^K{e^{x_k}}}\n",
    "$$\n",
    "\n",
    "What this does is squish each input $x_i$ between 0 and 1 and normalizes the values to give you a proper probability distribution where the probabilites sum up to one.\n",
    "\n",
    "> **Exercise:** Implement a function `softmax` that performs the softmax calculation and returns probability distributions for each example in the batch. Note that you'll need to pay attention to the shapes when doing this. If you have a tensor `a` with shape `(64, 10)` and a tensor `b` with shape `(64,)`, doing `a/b` will give you an error because PyTorch will try to do the division across the columns (called broadcasting) but you'll get a size mismatch. The way to think about this is for each of the 64 examples, you only want to divide by one value, the sum in the denominator. So you need `b` to have a shape of `(64, 1)`. This way PyTorch will divide the 10 values in each row of `a` by the one value in each row of `b`. Pay attention to how you take the sum as well. You'll need to define the `dim` keyword in `torch.sum`. Setting `dim=0` takes the sum across the rows while `dim=1` takes the sum across the columns."
   ]
  },
  {
   "cell_type": "code",
   "execution_count": 6,
   "metadata": {},
   "outputs": [
    {
     "name": "stdout",
     "output_type": "stream",
     "text": [
      "torch.Size([64, 10])\n",
      "tensor([ 1.0000,  1.0000,  1.0000,  1.0000,  1.0000,  1.0000,  1.0000,\n",
      "         1.0000,  1.0000,  1.0000,  1.0000,  1.0000,  1.0000,  1.0000,\n",
      "         1.0000,  1.0000,  1.0000,  1.0000,  1.0000,  1.0000,  1.0000,\n",
      "         1.0000,  1.0000,  1.0000,  1.0000,  1.0000,  1.0000,  1.0000,\n",
      "         1.0000,  1.0000,  1.0000,  1.0000,  1.0000,  1.0000,  1.0000,\n",
      "         1.0000,  1.0000,  1.0000,  1.0000,  1.0000,  1.0000,  1.0000,\n",
      "         1.0000,  1.0000,  1.0000,  1.0000,  1.0000,  1.0000,  1.0000,\n",
      "         1.0000,  1.0000,  1.0000,  1.0000,  1.0000,  1.0000,  1.0000,\n",
      "         1.0000,  1.0000,  1.0000,  1.0000,  1.0000,  1.0000,  1.0000,\n",
      "         1.0000])\n"
     ]
    }
   ],
   "source": [
    "def softmax(x):\n",
    "    return torch.exp(x)/torch.sum(torch.exp(x), dim=1).view(-1, 1)\n",
    "    ## TODO: Implement the softmax function here\n",
    "\n",
    "# Here, out should be the output of the network in the previous excercise with shape (64,10)\n",
    "probabilities = softmax(out)\n",
    "\n",
    "# Does it have the right shape? Should be (64, 10)\n",
    "print(probabilities.shape)\n",
    "# Does it sum to 1?\n",
    "print(probabilities.sum(dim=1))"
   ]
  },
  {
   "cell_type": "markdown",
   "metadata": {},
   "source": [
    "## Building networks with PyTorch\n",
    "\n",
    "PyTorch provides a module `nn` that makes building networks much simpler. Here I'll show you how to build the same one as above with 784 inputs, 256 hidden units, 10 output units and a softmax output."
   ]
  },
  {
   "cell_type": "code",
   "execution_count": 7,
   "metadata": {},
   "outputs": [],
   "source": [
    "from torch import nn"
   ]
  },
  {
   "cell_type": "code",
   "execution_count": 8,
   "metadata": {},
   "outputs": [],
   "source": [
    "class Network(nn.Module):\n",
    "    def __init__(self):\n",
    "        super().__init__()\n",
    "        \n",
    "        # Inputs to hidden layer linear transformation\n",
    "        self.hidden = nn.Linear(784, 256)\n",
    "        # Output layer, 10 units - one for each digit\n",
    "        self.output = nn.Linear(256, 10)\n",
    "        \n",
    "        # Define sigmoid activation and softmax output \n",
    "        self.sigmoid = nn.Sigmoid()\n",
    "        self.softmax = nn.Softmax(dim=1)\n",
    "        \n",
    "    def forward(self, x):\n",
    "        # Pass the input tensor through each of our operations\n",
    "        x = self.hidden(x)\n",
    "        x = self.sigmoid(x)\n",
    "        x = self.output(x)\n",
    "        x = self.softmax(x)\n",
    "        \n",
    "        return x"
   ]
  },
  {
   "cell_type": "markdown",
   "metadata": {},
   "source": [
    "Let's go through this bit by bit.\n",
    "\n",
    "```python\n",
    "class Network(nn.Module):\n",
    "```\n",
    "\n",
    "Here we're inheriting from `nn.Module`. Combined with `super().__init__()` this creates a class that tracks the architecture and provides a lot of useful methods and attributes. It is mandatory to inherit from `nn.Module` when you're creating a class for your network. The name of the class itself can be anything.\n",
    "\n",
    "```python\n",
    "self.hidden = nn.Linear(784, 256)\n",
    "```\n",
    "\n",
    "This line creates a module for a linear transformation, $x\\mathbf{W} + b$, with 784 inputs and 256 outputs and assigns it to `self.hidden`. The module automatically creates the weight and bias tensors which we'll use in the `forward` method. You can access the weight and bias tensors once the network (`net`) is created with `net.hidden.weight` and `net.hidden.bias`.\n",
    "\n",
    "```python\n",
    "self.output = nn.Linear(256, 10)\n",
    "```\n",
    "\n",
    "Similarly, this creates another linear transformation with 256 inputs and 10 outputs.\n",
    "\n",
    "```python\n",
    "self.sigmoid = nn.Sigmoid()\n",
    "self.softmax = nn.Softmax(dim=1)\n",
    "```\n",
    "\n",
    "Here I defined operations for the sigmoid activation and softmax output. Setting `dim=1` in `nn.Softmax(dim=1)` calculates softmax across the columns.\n",
    "\n",
    "```python\n",
    "def forward(self, x):\n",
    "```\n",
    "\n",
    "PyTorch networks created with `nn.Module` must have a `forward` method defined. It takes in a tensor `x` and passes it through the operations you defined in the `__init__` method.\n",
    "\n",
    "```python\n",
    "x = self.hidden(x)\n",
    "x = self.sigmoid(x)\n",
    "x = self.output(x)\n",
    "x = self.softmax(x)\n",
    "```\n",
    "\n",
    "Here the input tensor `x` is passed through each operation a reassigned to `x`. We can see that the input tensor goes through the hidden layer, then a sigmoid function, then the output layer, and finally the softmax function. It doesn't matter what you name the variables here, as long as the inputs and outputs of the operations match the network architecture you want to build. The order in which you define things in the `__init__` method doesn't matter, but you'll need to sequence the operations correctly in the `forward` method.\n",
    "\n",
    "Now we can create a `Network` object."
   ]
  },
  {
   "cell_type": "code",
   "execution_count": 9,
   "metadata": {},
   "outputs": [
    {
     "data": {
      "text/plain": [
       "Network(\n",
       "  (hidden): Linear(in_features=784, out_features=256, bias=True)\n",
       "  (output): Linear(in_features=256, out_features=10, bias=True)\n",
       "  (sigmoid): Sigmoid()\n",
       "  (softmax): Softmax()\n",
       ")"
      ]
     },
     "execution_count": 9,
     "metadata": {},
     "output_type": "execute_result"
    }
   ],
   "source": [
    "# Create the network and look at it's text representation\n",
    "model = Network()\n",
    "model"
   ]
  },
  {
   "cell_type": "markdown",
   "metadata": {},
   "source": [
    "You can define the network somewhat more concisely and clearly using the `torch.nn.functional` module. This is the most common way you'll see networks defined as many operations are simple element-wise functions. We normally import this module as `F`, `import torch.nn.functional as F`."
   ]
  },
  {
   "cell_type": "code",
   "execution_count": 10,
   "metadata": {},
   "outputs": [],
   "source": [
    "import torch.nn.functional as F\n",
    "\n",
    "class Network(nn.Module):\n",
    "    def __init__(self):\n",
    "        super().__init__()\n",
    "        # Inputs to hidden layer linear transformation\n",
    "        self.hidden = nn.Linear(784, 256)\n",
    "        # Output layer, 10 units - one for each digit\n",
    "        self.output = nn.Linear(256, 10)\n",
    "        \n",
    "    def forward(self, x):\n",
    "        # Hidden layer with sigmoid activation\n",
    "        x = F.sigmoid(self.hidden(x))\n",
    "        # Output layer with softmax activation\n",
    "        x = F.softmax(self.output(x), dim=1)\n",
    "        \n",
    "        return x"
   ]
  },
  {
   "cell_type": "markdown",
   "metadata": {},
   "source": [
    "### Activation functions\n",
    "\n",
    "So far we've only been looking at the softmax activation, but in general any function can be used as an activation function. The only requirement is that for a network to approximate a non-linear function, the activation functions must be non-linear. Here are a few more examples of common activation functions: Tanh (hyperbolic tangent), and ReLU (rectified linear unit).\n",
    "\n",
    "<img src=\"assets/activation.png\" width=700px>\n",
    "\n",
    "In practice, the ReLU function is used almost exclusively as the activation function for hidden layers."
   ]
  },
  {
   "cell_type": "markdown",
   "metadata": {},
   "source": [
    "### Your Turn to Build a Network\n",
    "\n",
    "<img src=\"assets/mlp_mnist.png\" width=600px>\n",
    "\n",
    "> **Exercise:** Create a network with 784 input units, a hidden layer with 128 units and a ReLU activation, then a hidden layer with 64 units and a ReLU activation, and finally an output layer with a softmax activation as shown above. You can use a ReLU activation with the `nn.ReLU` module or `F.relu` function."
   ]
  },
  {
   "cell_type": "code",
   "execution_count": 11,
   "metadata": {
    "scrolled": true
   },
   "outputs": [
    {
     "data": {
      "text/plain": [
       "Network(\n",
       "  (fc1): Linear(in_features=784, out_features=128, bias=True)\n",
       "  (fc2): Linear(in_features=128, out_features=64, bias=True)\n",
       "  (fc3): Linear(in_features=64, out_features=10, bias=True)\n",
       ")"
      ]
     },
     "execution_count": 11,
     "metadata": {},
     "output_type": "execute_result"
    }
   ],
   "source": [
    "## Your solution here\n",
    "## Solution\n",
    "\n",
    "class Network(nn.Module):\n",
    "    def __init__(self):\n",
    "        super().__init__()\n",
    "        # Defining the layers, 128, 64, 10 units each\n",
    "        self.fc1 = nn.Linear(784, 128)\n",
    "        self.fc2 = nn.Linear(128, 64)\n",
    "        # Output layer, 10 units - one for each digit\n",
    "        self.fc3 = nn.Linear(64, 10)\n",
    "        \n",
    "    def forward(self, x):\n",
    "        ''' Forward pass through the network, returns the output logits '''\n",
    "        \n",
    "        x = self.fc1(x)\n",
    "        x = F.relu(x)\n",
    "        x = self.fc2(x)\n",
    "        x = F.relu(x)\n",
    "        x = self.fc3(x)\n",
    "        x = F.softmax(x, dim=1)\n",
    "        \n",
    "        return x\n",
    "\n",
    "model = Network()\n",
    "model"
   ]
  },
  {
   "cell_type": "markdown",
   "metadata": {},
   "source": [
    "### Initializing weights and biases\n",
    "\n",
    "The weights and such are automatically initialized for you, but it's possible to customize how they are initialized. The weights and biases are tensors attached to the layer you defined, you can get them with `model.fc1.weight` for instance."
   ]
  },
  {
   "cell_type": "code",
   "execution_count": 12,
   "metadata": {},
   "outputs": [
    {
     "name": "stdout",
     "output_type": "stream",
     "text": [
      "Parameter containing:\n",
      "tensor([[ 1.1415e-02,  1.2696e-02, -1.0225e-02,  ..., -1.3623e-02,\n",
      "         -2.4405e-02, -1.3623e-02],\n",
      "        [-1.3747e-02,  1.9953e-02, -1.9895e-02,  ..., -1.6056e-02,\n",
      "         -3.1957e-02, -1.2015e-02],\n",
      "        [ 1.0614e-02,  1.0855e-02, -3.5448e-03,  ...,  2.1477e-02,\n",
      "          6.2934e-03,  3.1683e-02],\n",
      "        ...,\n",
      "        [-2.8910e-03, -2.2371e-02,  6.1063e-03,  ...,  1.6259e-02,\n",
      "         -3.3736e-02, -2.0930e-02],\n",
      "        [ 2.9309e-03,  1.2365e-02, -3.0533e-02,  ...,  1.1162e-02,\n",
      "         -1.2074e-02, -9.0586e-03],\n",
      "        [ 2.2286e-02,  1.7554e-02, -2.0068e-02,  ...,  2.4687e-03,\n",
      "         -1.4427e-02,  3.4744e-02]])\n",
      "Parameter containing:\n",
      "tensor(1.00000e-02 *\n",
      "       [-2.0707, -0.2711, -1.1449, -0.4580, -3.5469, -0.5967, -1.5117,\n",
      "         1.9125,  0.5524, -1.1613, -0.1735, -3.0509,  0.0522, -3.4109,\n",
      "         1.1078, -2.9367,  2.9751, -3.4391, -1.5521, -2.1571,  2.2747,\n",
      "        -2.4053, -2.7387, -0.4621, -0.8696, -2.9428, -2.4941, -0.8254,\n",
      "        -2.3554, -2.5229,  0.3186, -0.5345,  2.6170,  0.2697, -3.3032,\n",
      "        -1.4848, -1.7262, -0.1313, -2.9396,  2.5785, -1.3250,  1.5817,\n",
      "         1.9436,  1.3298,  3.5259,  1.8351,  1.6467, -2.2371, -2.8134,\n",
      "         0.4048,  1.8282,  2.1251, -0.7004, -2.5226,  0.0789,  1.0218,\n",
      "         1.9386, -0.3920,  2.5901,  2.4973,  3.1745,  1.5739,  2.7853,\n",
      "         2.6031,  0.6975, -3.2050, -0.6580,  1.2884,  1.3604, -3.5318,\n",
      "        -1.0834,  1.4201, -3.3214, -0.5673, -2.4840,  3.4116, -2.5018,\n",
      "        -2.5070,  1.9690, -2.8051,  3.3646,  2.6125,  2.3289, -3.3740,\n",
      "         3.0090, -2.6881, -1.5032, -0.5083, -1.3123, -1.3316,  3.0679,\n",
      "        -2.5670, -0.6551,  0.6198,  0.7639,  2.5721, -0.8376,  0.9724,\n",
      "        -0.4854,  3.5000,  3.0535, -0.2772, -3.1681,  2.8330,  3.1802,\n",
      "        -2.2295, -1.8537, -1.6329,  1.7973,  1.1884, -0.5006, -2.7076,\n",
      "        -2.4862, -2.3772, -2.2065,  2.2723, -1.1265, -1.0878, -2.2913,\n",
      "         1.0907,  0.6093, -0.3796,  0.3932,  0.7238, -2.4575, -2.5590,\n",
      "         1.5676,  2.3147])\n"
     ]
    }
   ],
   "source": [
    "print(model.fc1.weight)\n",
    "print(model.fc1.bias)"
   ]
  },
  {
   "cell_type": "markdown",
   "metadata": {},
   "source": [
    "For custom initialization, we want to modify these tensors in place. These are actually autograd *Variables*, so we need to get back the actual tensors with `model.fc1.weight.data`. Once we have the tensors, we can fill them with zeros (for biases) or random normal values."
   ]
  },
  {
   "cell_type": "code",
   "execution_count": 13,
   "metadata": {},
   "outputs": [
    {
     "data": {
      "text/plain": [
       "tensor([ 0.,  0.,  0.,  0.,  0.,  0.,  0.,  0.,  0.,  0.,  0.,  0.,\n",
       "         0.,  0.,  0.,  0.,  0.,  0.,  0.,  0.,  0.,  0.,  0.,  0.,\n",
       "         0.,  0.,  0.,  0.,  0.,  0.,  0.,  0.,  0.,  0.,  0.,  0.,\n",
       "         0.,  0.,  0.,  0.,  0.,  0.,  0.,  0.,  0.,  0.,  0.,  0.,\n",
       "         0.,  0.,  0.,  0.,  0.,  0.,  0.,  0.,  0.,  0.,  0.,  0.,\n",
       "         0.,  0.,  0.,  0.,  0.,  0.,  0.,  0.,  0.,  0.,  0.,  0.,\n",
       "         0.,  0.,  0.,  0.,  0.,  0.,  0.,  0.,  0.,  0.,  0.,  0.,\n",
       "         0.,  0.,  0.,  0.,  0.,  0.,  0.,  0.,  0.,  0.,  0.,  0.,\n",
       "         0.,  0.,  0.,  0.,  0.,  0.,  0.,  0.,  0.,  0.,  0.,  0.,\n",
       "         0.,  0.,  0.,  0.,  0.,  0.,  0.,  0.,  0.,  0.,  0.,  0.,\n",
       "         0.,  0.,  0.,  0.,  0.,  0.,  0.,  0.])"
      ]
     },
     "execution_count": 13,
     "metadata": {},
     "output_type": "execute_result"
    }
   ],
   "source": [
    "# Set biases to all zeros\n",
    "model.fc1.bias.data.fill_(0)"
   ]
  },
  {
   "cell_type": "code",
   "execution_count": 14,
   "metadata": {},
   "outputs": [
    {
     "data": {
      "text/plain": [
       "tensor([[ 6.1785e-04, -7.5849e-03, -5.5344e-03,  ...,  5.2289e-03,\n",
       "          1.6754e-02, -2.7178e-03],\n",
       "        [ 2.6169e-02, -4.8518e-03,  1.9479e-02,  ..., -5.9754e-03,\n",
       "          8.1391e-03, -3.4361e-03],\n",
       "        [ 3.9531e-03,  5.6614e-03, -1.5325e-03,  ...,  7.4714e-03,\n",
       "          1.0028e-02, -7.8814e-03],\n",
       "        ...,\n",
       "        [-4.6215e-04, -5.8516e-03, -3.6115e-03,  ..., -1.1310e-02,\n",
       "         -1.6438e-03, -5.2844e-03],\n",
       "        [-1.7877e-02, -5.2325e-03,  8.4799e-03,  ..., -4.5769e-03,\n",
       "          8.1640e-03, -2.9031e-03],\n",
       "        [ 6.7017e-03, -1.1892e-02, -1.0379e-02,  ...,  1.4720e-02,\n",
       "         -1.4477e-02, -5.5974e-04]])"
      ]
     },
     "execution_count": 14,
     "metadata": {},
     "output_type": "execute_result"
    }
   ],
   "source": [
    "# sample from random normal with standard dev = 0.01\n",
    "model.fc1.weight.data.normal_(std=0.01)"
   ]
  },
  {
   "cell_type": "markdown",
   "metadata": {},
   "source": [
    "### Forward pass\n",
    "\n",
    "Now that we have a network, let's see what happens when we pass in an image."
   ]
  },
  {
   "cell_type": "code",
   "execution_count": 15,
   "metadata": {},
   "outputs": [
    {
     "data": {
      "image/png": "[encoded data removed]",
      "text/plain": [
       "<matplotlib.figure.Figure at 0x7f5b94aec3c8>"
      ]
     },
     "metadata": {
      "image/png": {
       "height": 224,
       "width": 423
      },
      "needs_background": "light"
     },
     "output_type": "display_data"
    }
   ],
   "source": [
    "# Grab some data \n",
    "dataiter = iter(trainloader)\n",
    "images, labels = dataiter.next()\n",
    "\n",
    "# Resize images into a 1D vector, new shape is (batch size, color channels, image pixels) \n",
    "images.resize_(64, 1, 784)\n",
    "# or images.resize_(images.shape[0], 1, 784) to automatically get batch size\n",
    "\n",
    "# Forward pass through the network\n",
    "img_idx = 0\n",
    "ps = model.forward(images[img_idx,:])\n",
    "\n",
    "img = images[img_idx]\n",
    "helper.view_classify(img.view(1, 28, 28), ps)"
   ]
  },
  {
   "cell_type": "markdown",
   "metadata": {},
   "source": [
    "As you can see above, our network has basically no idea what this digit is. It's because we haven't trained it yet, all the weights are random!\n",
    "\n",
    "### Using `nn.Sequential`\n",
    "\n",
    "PyTorch provides a convenient way to build networks like this where a tensor is passed sequentially through operations, `nn.Sequential` ([documentation](https://pytorch.org/docs/master/nn.html#torch.nn.Sequential)). Using this to build the equivalent network:"
   ]
  },
  {
   "cell_type": "code",
   "execution_count": 16,
   "metadata": {},
   "outputs": [
    {
     "name": "stdout",
     "output_type": "stream",
     "text": [
      "Sequential(\n",
      "  (0): Linear(in_features=784, out_features=128, bias=True)\n",
      "  (1): ReLU()\n",
      "  (2): Linear(in_features=128, out_features=64, bias=True)\n",
      "  (3): ReLU()\n",
      "  (4): Linear(in_features=64, out_features=10, bias=True)\n",
      "  (5): Softmax()\n",
      ")\n"
     ]
    },
    {
     "data": {
      "image/png": "[encoded data removed]",
      "text/plain": [
       "<matplotlib.figure.Figure at 0x7f5b38662ba8>"
      ]
     },
     "metadata": {
      "image/png": {
       "height": 224,
       "width": 423
      },
      "needs_background": "light"
     },
     "output_type": "display_data"
    }
   ],
   "source": [
    "# Hyperparameters for our network\n",
    "input_size = 784\n",
    "hidden_sizes = [128, 64]\n",
    "output_size = 10\n",
    "\n",
    "# Build a feed-forward network\n",
    "model = nn.Sequential(nn.Linear(input_size, hidden_sizes[0]),\n",
    "                      nn.ReLU(),\n",
    "                      nn.Linear(hidden_sizes[0], hidden_sizes[1]),\n",
    "                      nn.ReLU(),\n",
    "                      nn.Linear(hidden_sizes[1], output_size),\n",
    "                      nn.Softmax(dim=1))\n",
    "print(model)\n",
    "\n",
    "# Forward pass through the network and display output\n",
    "images, labels = next(iter(trainloader))\n",
    "images.resize_(images.shape[0], 1, 784)\n",
    "ps = model.forward(images[0,:])\n",
    "helper.view_classify(images[0].view(1, 28, 28), ps)"
   ]
  },
  {
   "cell_type": "markdown",
   "metadata": {},
   "source": [
    "Here our model is the same as before: 784 input units, a hidden layer with 128 units, ReLU activation, 64 unit hidden layer, another ReLU, then the output layer with 10 units, and the softmax output.\n",
    "\n",
    "The operations are availble by passing in the appropriate index. For example, if you want to get first Linear operation and look at the weights, you'd use `model[0]`."
   ]
  },
  {
   "cell_type": "code",
   "execution_count": 17,
   "metadata": {},
   "outputs": [
    {
     "name": "stdout",
     "output_type": "stream",
     "text": [
      "Linear(in_features=784, out_features=128, bias=True)\n"
     ]
    },
    {
     "data": {
      "text/plain": [
       "Parameter containing:\n",
       "tensor([[ 6.8964e-03, -8.0337e-04, -2.6068e-02,  ...,  1.9295e-02,\n",
       "         -2.1911e-03, -1.3068e-02],\n",
       "        [ 2.6371e-02, -2.1846e-02, -7.9307e-03,  ..., -1.0988e-02,\n",
       "          2.1870e-02,  3.3002e-02],\n",
       "        [-2.6726e-02,  3.1852e-02, -1.5505e-02,  ...,  2.5037e-02,\n",
       "         -3.0789e-02, -2.7665e-02],\n",
       "        ...,\n",
       "        [ 1.3189e-02,  1.3146e-02,  3.0004e-02,  ..., -3.2682e-02,\n",
       "          6.6034e-03,  1.1553e-02],\n",
       "        [-3.3295e-02, -3.2165e-02, -2.8282e-02,  ..., -1.8349e-02,\n",
       "          9.0041e-03,  1.4519e-03],\n",
       "        [ 7.0897e-03, -2.2042e-02,  2.8372e-02,  ...,  3.5520e-02,\n",
       "          2.6942e-02, -2.9966e-02]])"
      ]
     },
     "execution_count": 17,
     "metadata": {},
     "output_type": "execute_result"
    }
   ],
   "source": [
    "print(model[0])\n",
    "model[0].weight"
   ]
  },
  {
   "cell_type": "markdown",
   "metadata": {},
   "source": [
    "You can also pass in an `OrderedDict` to name the individual layers and operations, instead of using incremental integers. Note that dictionary keys must be unique, so _each operation must have a different name_."
   ]
  },
  {
   "cell_type": "code",
   "execution_count": 18,
   "metadata": {},
   "outputs": [
    {
     "data": {
      "text/plain": [
       "Sequential(\n",
       "  (fc1): Linear(in_features=784, out_features=128, bias=True)\n",
       "  (relu1): ReLU()\n",
       "  (fc2): Linear(in_features=128, out_features=64, bias=True)\n",
       "  (relu2): ReLU()\n",
       "  (output): Linear(in_features=64, out_features=10, bias=True)\n",
       "  (softmax): Softmax()\n",
       ")"
      ]
     },
     "execution_count": 18,
     "metadata": {},
     "output_type": "execute_result"
    }
   ],
   "source": [
    "from collections import OrderedDict\n",
    "model = nn.Sequential(OrderedDict([\n",
    "                      ('fc1', nn.Linear(input_size, hidden_sizes[0])),\n",
    "                      ('relu1', nn.ReLU()),\n",
    "                      ('fc2', nn.Linear(hidden_sizes[0], hidden_sizes[1])),\n",
    "                      ('relu2', nn.ReLU()),\n",
    "                      ('output', nn.Linear(hidden_sizes[1], output_size)),\n",
    "                      ('softmax', nn.Softmax(dim=1))]))\n",
    "model"
   ]
  },
  {
   "cell_type": "markdown",
   "metadata": {},
   "source": [
    "Now you can access layers either by integer or the name"
   ]
  },
  {
   "cell_type": "code",
   "execution_count": 19,
   "metadata": {},
   "outputs": [
    {
     "name": "stdout",
     "output_type": "stream",
     "text": [
      "Linear(in_features=784, out_features=128, bias=True)\n",
      "Linear(in_features=784, out_features=128, bias=True)\n"
     ]
    }
   ],
   "source": [
    "print(model[0])\n",
    "print(model.fc1)"
   ]
  },
  {
   "cell_type": "markdown",
   "metadata": {},
   "source": [
    "In the next notebook, we'll see how we can train a neural network to accuractly predict the numbers appearing in the MNIST images."
   ]
  }
 ],
 "metadata": {
  "kernelspec": {
   "display_name": "Python 3",
   "language": "python",
   "name": "python3"
  },
  "language_info": {
   "codemirror_mode": {
    "name": "ipython",
    "version": 3
   },
   "file_extension": ".py",
   "mimetype": "text/x-python",
   "name": "python",
   "nbconvert_exporter": "python",
   "pygments_lexer": "ipython3",
   "version": "3.6.3"
  }
 },
 "nbformat": 4,
 "nbformat_minor": 2
}
